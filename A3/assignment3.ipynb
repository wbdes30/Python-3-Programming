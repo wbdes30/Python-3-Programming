{
 "cells": [
  {
   "cell_type": "markdown",
   "metadata": {
    "deletable": false,
    "editable": false,
    "nbgrader": {
     "cell_type": "markdown",
     "checksum": "396093c37b0bd95a59aa1721aa93d3d9",
     "grade": false,
     "grade_id": "cell-e752145b912a736b",
     "locked": true,
     "schema_version": 3,
     "solution": false,
     "task": false
    }
   },
   "source": [
    "# Assignment 3: Creating a WordyPy Solver\n",
    "\n",
    "You now understand the rules of _WordyPy_ and how to read the game state from an image. Now your job is to read in a\n",
    "_WordyPy_ partial play and provide a next **good** guess. What's a good guess? A good guess is one which:\n",
    "\n",
    "1. Continues to adhere to the rules of _WordPy_\n",
    "2. Does not repeat words which have already been played\n",
    "3. Uses the knowledge of previous guesses to pick a new good word\n",
    "\n",
    "Unlike previous assignments there are no guardrails for this task -- you can complete this using whatever software\n",
    "architecture you like! In addition, I've put my code in a new module for you to import, called `wordy`. You can just\n",
    "import this module and begin making calls to it. You should be able to understand how it works by reading the module\n",
    "documentation.\n"
   ]
  },
  {
   "cell_type": "code",
   "execution_count": 1,
   "metadata": {
    "deletable": false,
    "nbgrader": {
     "cell_type": "code",
     "checksum": "456f642a4d7c230cb02ebe5b4b37554e",
     "grade": false,
     "grade_id": "cell-e758e760b1c54767",
     "locked": false,
     "schema_version": 3,
     "solution": true,
     "task": false
    },
    "tags": []
   },
   "outputs": [],
   "source": [
    "import wordy\n",
    "import PIL\n",
    "import random\n",
    "\n",
    "def solution(board: PIL.Image) -> str:\n",
    "    \"\"\"The student solution to the problem.\n",
    "\n",
    "    You must write code to query the wordy module and make\n",
    "    a guess for the word. You needs to inspect the module to\n",
    "    understand how to do this, and this function should only return\n",
    "    the guess that you are going to make based on the game board state.\n",
    "\n",
    "    Returns:\n",
    "        str: The guess that you are going to make.\n",
    "    \"\"\"\n",
    "    # Initialize display specifications and possible word list\n",
    "    display_spec = wordy.get_display_spec()\n",
    "    possible_words = wordy.get_word_list()\n",
    "\n",
    "    # Gather last target word and guesses\n",
    "    last_target_word = wordy.__last_target_word\n",
    "    last_guesses = wordy.__last_guesses\n",
    "\n",
    "    # Filter possible words based on previous guesses and known letter positions\n",
    "    def filter_words(words):\n",
    "        filtered_words = []\n",
    "        for word in words:\n",
    "            valid = True\n",
    "            # Check each position and letter for any constraints\n",
    "            for i, letter in enumerate(word):\n",
    "                # Example conditions based on your own rules for colors\n",
    "                if display_spec.correct_location_color and letter != last_target_word[i]:\n",
    "                    valid = False\n",
    "                    break\n",
    "                elif display_spec.incorrect_location_color and letter in last_target_word:\n",
    "                    valid = False\n",
    "                    break\n",
    "            if valid:\n",
    "                filtered_words.append(word)\n",
    "        return filtered_words\n",
    "\n",
    "    # Filter out previous guesses\n",
    "    candidate_words = [word for word in possible_words if word not in last_guesses]\n",
    "    candidate_words = filter_words(candidate_words)\n",
    "\n",
    "    # Pick a new guess from the filtered list\n",
    "    if candidate_words:\n",
    "        new_guess = candidate_words[0]  # Example: choose the first valid word\n",
    "    else:\n",
    "        new_guess = random.choice(possible_words)  # Fallback to random choice if no candidates\n",
    "    \n",
    "    return new_guess"
   ]
  },
  {
   "cell_type": "code",
   "execution_count": 2,
   "metadata": {
    "deletable": false,
    "editable": false,
    "nbgrader": {
     "cell_type": "code",
     "checksum": "a1eba9346dda9330e338d3ac2792c4bb",
     "grade": true,
     "grade_id": "cell-ae995a0f4243235e",
     "locked": true,
     "points": 1,
     "schema_version": 3,
     "solution": false,
     "task": false
    },
    "tags": []
   },
   "outputs": [],
   "source": [
    "# The autograder for this assignment is easy, it will try and play\n",
    "# a few rounds of the game and ensure that errors are not thrown. If\n",
    "# you can make it through five rounds we'll assume you have the right\n",
    "# solution!\n",
    "#\n",
    "# You SHOULD NOT change anything in the wordy module, instead you\n",
    "# must figure out how to write the solution() function in this notebook\n",
    "# to make a good guess based on the board state!\n",
    "\n",
    "for i in range(5):\n",
    "    try:\n",
    "        # Get an image of the current board state from wordy.\n",
    "        # Note that the image contains some number of random guesses (always less than 5 guesses).\n",
    "        image = wordy.get_board_state()\n",
    "        # Create a new *good* guess based on the image and rules of wordy\n",
    "        new_guess = solution(image)  # your code goes in solution()!\n",
    "        # Send that guess to wordy to make sure it doesn't throw any errors\n",
    "        wordy.make_guess(new_guess)\n",
    "    except Exception as e:\n",
    "        raise e"
   ]
  }
 ],
 "metadata": {
  "kernelspec": {
   "display_name": "Python 3 (ipykernel)",
   "language": "python",
   "name": "python3"
  },
  "language_info": {
   "codemirror_mode": {
    "name": "ipython",
    "version": 3
   },
   "file_extension": ".py",
   "mimetype": "text/x-python",
   "name": "python",
   "nbconvert_exporter": "python",
   "pygments_lexer": "ipython3",
   "version": "3.11.6"
  },
  "vscode": {
   "interpreter": {
    "hash": "e42e32cf910e3ef8621fd44f66925230a95020be1defc7567e14c59ff2dff1ed"
   }
  }
 },
 "nbformat": 4,
 "nbformat_minor": 4
}
